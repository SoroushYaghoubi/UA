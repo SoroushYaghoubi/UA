{
 "cells": [
  {
   "cell_type": "markdown",
   "id": "8865be9f-1f82-4b43-b5f0-4984330c83dd",
   "metadata": {},
   "source": [
    "# WELCOME TO TROPICAL GAUSSIANS!"
   ]
  },
  {
   "cell_type": "code",
   "execution_count": 1,
   "id": "abfa5d44-ec2d-42e9-bce6-617dd6944212",
   "metadata": {},
   "outputs": [
    {
     "name": "stdout",
     "output_type": "stream",
     "text": [
      "The manim module is not an IPython extension.\n"
     ]
    }
   ],
   "source": [
    "%load_ext manim"
   ]
  },
  {
   "cell_type": "code",
   "execution_count": 2,
   "id": "e4b5963e-a339-423a-b799-f2bceedcfbbe",
   "metadata": {},
   "outputs": [
    {
     "data": {
      "text/html": [
       "<pre style=\"white-space:pre;overflow-x:auto;line-height:normal;font-family:Menlo,'DejaVu Sans Mono',consolas,'Courier New',monospace\">Manim Community <span style=\"color: #008000; text-decoration-color: #008000\">v0.19.0</span>\n",
       "\n",
       "</pre>\n"
      ],
      "text/plain": [
       "Manim Community \u001b[32mv0.\u001b[0m\u001b[32m19.0\u001b[0m\n",
       "\n"
      ]
     },
     "metadata": {},
     "output_type": "display_data"
    },
    {
     "name": "stderr",
     "output_type": "stream",
     "text": [
      "                                                                                                 \r"
     ]
    },
    {
     "data": {
      "text/html": [
       "<video src=\"media/jupyter/MyFirstScene@2025-09-13@16-10-00.mp4\" controls autoplay loop style=\"max-width: 60%;\"  >\n",
       "      Your browser does not support the <code>video</code> element.\n",
       "    </video>"
      ],
      "text/plain": [
       "<IPython.core.display.Video object>"
      ]
     },
     "metadata": {},
     "output_type": "display_data"
    }
   ],
   "source": [
    "%%manim -qm -v WARNING MyFirstScene\n",
    "\n",
    "from manim import *\n",
    "\n",
    "class MyFirstScene(Scene):\n",
    "    def construct(self):\n",
    "        text = Text(\"WELCOME TO TROPICAL GAUSSIANS!\")\n",
    "        self.play(Write(text))\n",
    "        self.wait(2)\n",
    "\n",
    "        circle = Circle()\n",
    "\n",
    "        self.play(Create(circle))\n",
    "        self.wait(1)\n",
    "        self.play(circle.animate.set_fill(color=BLUE, opacity=0.75))\n",
    "        self.wait(2)\n"
   ]
  }
 ],
 "metadata": {
  "kernelspec": {
   "display_name": "ua",
   "language": "python",
   "name": "python3"
  },
  "language_info": {
   "codemirror_mode": {
    "name": "ipython",
    "version": 3
   },
   "file_extension": ".py",
   "mimetype": "text/x-python",
   "name": "python",
   "nbconvert_exporter": "python",
   "pygments_lexer": "ipython3",
   "version": "3.12.11"
  }
 },
 "nbformat": 4,
 "nbformat_minor": 5
}
