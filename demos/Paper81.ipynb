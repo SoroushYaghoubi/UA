{
 "cells": [
  {
   "attachments": {},
   "cell_type": "markdown",
   "id": "8865be9f-1f82-4b43-b5f0-4984330c83dd",
   "metadata": {
    "editable": true,
    "rise": {
     "data-background-color": "#222"
    },
    "slideshow": {
     "slide_type": "slide"
    },
    "tags": []
   },
   "source": [
    "# TROPICAL GAUSSIANS\n",
    "\n",
    "- \"*Ultrametrische Datenanalyse*\" SoSe2025\n",
    "- A Presentation by Soroush Yaghoubi\n"
   ]
  },
  {
   "cell_type": "code",
   "execution_count": 4,
   "id": "abfa5d44-ec2d-42e9-bce6-617dd6944212",
   "metadata": {
    "editable": true,
    "slideshow": {
     "slide_type": "skip"
    },
    "tags": []
   },
   "outputs": [
    {
     "name": "stdout",
     "output_type": "stream",
     "text": [
      "The manim module is not an IPython extension.\n"
     ]
    }
   ],
   "source": [
    "%load_ext manim"
   ]
  },
  {
   "cell_type": "code",
   "execution_count": null,
   "id": "0216f236-8093-4f1f-b44e-ad79c8a4a1ec",
   "metadata": {
    "editable": true,
    "slideshow": {
     "slide_type": "skip"
    },
    "tags": []
   },
   "outputs": [],
   "source": [
    "from manim import *\n",
    "\n",
    "class hello(Scene):\n",
    "    def construct(self):\n",
    "        text = Text(\"WELCOME TO TROPICAL GAUSSIANS!\")\n",
    "        self.play(Write(text))\n",
    "        self.wait(2)\n",
    "        \n",
    "        circle = Circle()\n",
    "\n",
    "        self.play(Create(circle))\n",
    "        self.wait(1)\n",
    "        self.play(circle.animate.set_fill(color=BLUE, opacity=0.75))\n",
    "        self.wait(2)"
   ]
  },
  {
   "cell_type": "code",
   "execution_count": 6,
   "id": "c0fe8229-f8b7-42bc-a425-bf7617e8623f",
   "metadata": {
    "editable": true,
    "slideshow": {
     "slide_type": "subslide"
    },
    "tags": []
   },
   "outputs": [
    {
     "data": {
      "text/html": [
       "<pre style=\"white-space:pre;overflow-x:auto;line-height:normal;font-family:Menlo,'DejaVu Sans Mono',consolas,'Courier New',monospace\">Manim Community <span style=\"color: #008000; text-decoration-color: #008000\">v0.19.0</span>\n",
       "\n",
       "</pre>\n"
      ],
      "text/plain": [
       "Manim Community \u001b[32mv0.\u001b[0m\u001b[32m19.0\u001b[0m\n",
       "\n"
      ]
     },
     "metadata": {},
     "output_type": "display_data"
    },
    {
     "name": "stderr",
     "output_type": "stream",
     "text": [
      "                                                                                                                                                  "
     ]
    },
    {
     "data": {
      "text/html": [
       "<video src=\"media/jupyter/MyFirstScene@2025-09-13@17-01-30.mp4\" controls autoplay loop style=\"max-width: 60%;\"  >\n",
       "      Your browser does not support the <code>video</code> element.\n",
       "    </video>"
      ],
      "text/plain": [
       "<IPython.core.display.Video object>"
      ]
     },
     "metadata": {},
     "output_type": "display_data"
    }
   ],
   "source": [
    "%manim -qm -v WARNING MyFirstScene"
   ]
  },
  {
   "cell_type": "markdown",
   "id": "478f6137-0df8-4786-a54a-a2867f8a3ee4",
   "metadata": {
    "editable": true,
    "slideshow": {
     "slide_type": "slide"
    },
    "tags": []
   },
   "source": [
    "# A REVIEW ON P-ADIC GAUSSIANS!"
   ]
  }
 ],
 "metadata": {
  "kernelspec": {
   "display_name": "Python 3 (ipykernel)",
   "language": "python",
   "name": "python3"
  },
  "language_info": {
   "codemirror_mode": {
    "name": "ipython",
    "version": 3
   },
   "file_extension": ".py",
   "mimetype": "text/x-python",
   "name": "python",
   "nbconvert_exporter": "python",
   "pygments_lexer": "ipython3",
   "version": "3.12.11"
  }
 },
 "nbformat": 4,
 "nbformat_minor": 5
}
