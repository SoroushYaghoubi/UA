{
 "cells": [
  {
   "cell_type": "markdown",
   "id": "1452c483",
   "metadata": {
    "slideshow": {
     "slide_type": "slide"
    }
   },
   "source": [
    "# TROPICAL GAUSSIANS\n",
    "\n",
    "- \"*Ultrametric Data Analysis*\" SoSe2025 TU Dortmund\n",
    "- A Presentation by Soroush Yaghoubi"
   ]
  },
  {
   "cell_type": "markdown",
   "id": "76a6214d",
   "metadata": {
    "slideshow": {
     "slide_type": "slide"
    }
   },
   "source": [
    "# Introduction"
   ]
  }
 ],
 "metadata": {
  "celltoolbar": "Slideshow",
  "kernelspec": {
   "display_name": "Python 3 (ipykernel)",
   "language": "python",
   "name": "python3"
  },
  "language_info": {
   "codemirror_mode": {
    "name": "ipython",
    "version": 3
   },
   "file_extension": ".py",
   "mimetype": "text/x-python",
   "name": "python",
   "nbconvert_exporter": "python",
   "pygments_lexer": "ipython3",
   "version": "3.12.11"
  },
  "rise": {
   "center": false,
   "controls": true,
   "enable_chalkboard": true,
   "leap_motion": {
    "naturalSwipe": true,
    "pointerColor": "#d80000",
    "pointerOpacity": 0.5
   },
   "progress": true,
   "scroll": true,
   "slideNumber": "c/t",
   "start_slideshow_at": "selected",
   "theme": "serif",
   "transition": "zoom",
   "transition_speed": "fast"
  }
 },
 "nbformat": 4,
 "nbformat_minor": 5
}
